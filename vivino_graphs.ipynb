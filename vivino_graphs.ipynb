{
 "cells": [
  {
   "cell_type": "code",
   "execution_count": null,
   "metadata": {},
   "outputs": [],
   "source": [
    "\"\"\"Welcome to Streamlit. Check out our demo in your browser.\n",
    "\n",
    "  Local URL: http://localhost:8501\n",
    "  Network URL: http://192.168.0.3:8501\n",
    "\n",
    "  Ready to create your own Python apps super quickly?\n",
    "  Head over to https://docs.streamlit.io\n",
    "\n",
    "  May you create awesome apps!\n",
    "\n",
    "\n",
    "  For better performance, install the Watchdog module:\n",
    "\n",
    "  $ xcode-select --install\n",
    "  $ pip install watchdog\"\"\""
   ]
  },
  {
   "cell_type": "code",
   "execution_count": 11,
   "metadata": {},
   "outputs": [],
   "source": [
    "import streamlit as st\n",
    "import matplotlib.pyplot as plt\n",
    "import numpy as np\n",
    "import pandas as pd"
   ]
  },
  {
   "cell_type": "code",
   "execution_count": 12,
   "metadata": {},
   "outputs": [],
   "source": [
    "df = pd.read_csv('/Users/saidkardic/Desktop/Wine Ratings per Countries')\n"
   ]
  },
  {
   "cell_type": "code",
   "execution_count": 13,
   "metadata": {},
   "outputs": [
    {
     "data": {
      "text/html": [
       "<div>\n",
       "<style scoped>\n",
       "    .dataframe tbody tr th:only-of-type {\n",
       "        vertical-align: middle;\n",
       "    }\n",
       "\n",
       "    .dataframe tbody tr th {\n",
       "        vertical-align: top;\n",
       "    }\n",
       "\n",
       "    .dataframe thead th {\n",
       "        text-align: right;\n",
       "    }\n",
       "</style>\n",
       "<table border=\"1\" class=\"dataframe\">\n",
       "  <thead>\n",
       "    <tr style=\"text-align: right;\">\n",
       "      <th></th>\n",
       "      <th>name</th>\n",
       "      <th>users_count</th>\n",
       "      <th>wines_count</th>\n",
       "      <th>avg_wine_rating</th>\n",
       "    </tr>\n",
       "  </thead>\n",
       "  <tbody>\n",
       "    <tr>\n",
       "      <th>0</th>\n",
       "      <td>Israël</td>\n",
       "      <td>150549</td>\n",
       "      <td>5435</td>\n",
       "      <td>4.500</td>\n",
       "    </tr>\n",
       "    <tr>\n",
       "      <th>1</th>\n",
       "      <td>Allemagne</td>\n",
       "      <td>2549989</td>\n",
       "      <td>164533</td>\n",
       "      <td>4.500</td>\n",
       "    </tr>\n",
       "    <tr>\n",
       "      <th>2</th>\n",
       "      <td>États-Unis</td>\n",
       "      <td>12273684</td>\n",
       "      <td>204060</td>\n",
       "      <td>4.491</td>\n",
       "    </tr>\n",
       "    <tr>\n",
       "      <th>3</th>\n",
       "      <td>Moldavie</td>\n",
       "      <td>13583</td>\n",
       "      <td>5055</td>\n",
       "      <td>4.480</td>\n",
       "    </tr>\n",
       "    <tr>\n",
       "      <th>4</th>\n",
       "      <td>Hongrie</td>\n",
       "      <td>102235</td>\n",
       "      <td>16605</td>\n",
       "      <td>4.473</td>\n",
       "    </tr>\n",
       "    <tr>\n",
       "      <th>5</th>\n",
       "      <td>Afrique du Sud</td>\n",
       "      <td>269649</td>\n",
       "      <td>30857</td>\n",
       "      <td>4.459</td>\n",
       "    </tr>\n",
       "    <tr>\n",
       "      <th>6</th>\n",
       "      <td>Australie</td>\n",
       "      <td>1022965</td>\n",
       "      <td>90954</td>\n",
       "      <td>4.458</td>\n",
       "    </tr>\n",
       "    <tr>\n",
       "      <th>7</th>\n",
       "      <td>France</td>\n",
       "      <td>5973301</td>\n",
       "      <td>422503</td>\n",
       "      <td>4.447</td>\n",
       "    </tr>\n",
       "    <tr>\n",
       "      <th>8</th>\n",
       "      <td>Espagne</td>\n",
       "      <td>2264396</td>\n",
       "      <td>102662</td>\n",
       "      <td>4.444</td>\n",
       "    </tr>\n",
       "    <tr>\n",
       "      <th>9</th>\n",
       "      <td>Portugal</td>\n",
       "      <td>1123535</td>\n",
       "      <td>39847</td>\n",
       "      <td>4.436</td>\n",
       "    </tr>\n",
       "    <tr>\n",
       "      <th>10</th>\n",
       "      <td>Chili</td>\n",
       "      <td>326757</td>\n",
       "      <td>41191</td>\n",
       "      <td>4.431</td>\n",
       "    </tr>\n",
       "    <tr>\n",
       "      <th>11</th>\n",
       "      <td>Italie</td>\n",
       "      <td>4270717</td>\n",
       "      <td>274658</td>\n",
       "      <td>4.430</td>\n",
       "    </tr>\n",
       "    <tr>\n",
       "      <th>12</th>\n",
       "      <td>Argentine</td>\n",
       "      <td>629532</td>\n",
       "      <td>36121</td>\n",
       "      <td>4.417</td>\n",
       "    </tr>\n",
       "    <tr>\n",
       "      <th>13</th>\n",
       "      <td>Roumanie</td>\n",
       "      <td>228185</td>\n",
       "      <td>6841</td>\n",
       "      <td>4.400</td>\n",
       "    </tr>\n",
       "    <tr>\n",
       "      <th>14</th>\n",
       "      <td>Grèce</td>\n",
       "      <td>95693</td>\n",
       "      <td>9581</td>\n",
       "      <td>4.400</td>\n",
       "    </tr>\n",
       "    <tr>\n",
       "      <th>15</th>\n",
       "      <td>Suisse</td>\n",
       "      <td>1601799</td>\n",
       "      <td>33656</td>\n",
       "      <td>4.350</td>\n",
       "    </tr>\n",
       "    <tr>\n",
       "      <th>16</th>\n",
       "      <td>Croatie</td>\n",
       "      <td>64223</td>\n",
       "      <td>5880</td>\n",
       "      <td>4.300</td>\n",
       "    </tr>\n",
       "  </tbody>\n",
       "</table>\n",
       "</div>"
      ],
      "text/plain": [
       "              name  users_count  wines_count  avg_wine_rating\n",
       "0           Israël       150549         5435            4.500\n",
       "1        Allemagne      2549989       164533            4.500\n",
       "2       États-Unis     12273684       204060            4.491\n",
       "3         Moldavie        13583         5055            4.480\n",
       "4          Hongrie       102235        16605            4.473\n",
       "5   Afrique du Sud       269649        30857            4.459\n",
       "6        Australie      1022965        90954            4.458\n",
       "7           France      5973301       422503            4.447\n",
       "8          Espagne      2264396       102662            4.444\n",
       "9         Portugal      1123535        39847            4.436\n",
       "10           Chili       326757        41191            4.431\n",
       "11          Italie      4270717       274658            4.430\n",
       "12       Argentine       629532        36121            4.417\n",
       "13        Roumanie       228185         6841            4.400\n",
       "14           Grèce        95693         9581            4.400\n",
       "15          Suisse      1601799        33656            4.350\n",
       "16         Croatie        64223         5880            4.300"
      ]
     },
     "execution_count": 13,
     "metadata": {},
     "output_type": "execute_result"
    }
   ],
   "source": [
    "df"
   ]
  },
  {
   "cell_type": "code",
   "execution_count": 14,
   "metadata": {},
   "outputs": [],
   "source": [
    "st.write('Hello')"
   ]
  },
  {
   "cell_type": "code",
   "execution_count": 15,
   "metadata": {},
   "outputs": [
    {
     "data": {
      "text/plain": [
       "DeltaGenerator()"
      ]
     },
     "execution_count": 15,
     "metadata": {},
     "output_type": "execute_result"
    }
   ],
   "source": [
    "st.line_chart(df)"
   ]
  },
  {
   "cell_type": "code",
   "execution_count": null,
   "metadata": {},
   "outputs": [],
   "source": []
  },
  {
   "cell_type": "code",
   "execution_count": null,
   "metadata": {},
   "outputs": [],
   "source": []
  },
  {
   "cell_type": "code",
   "execution_count": null,
   "metadata": {},
   "outputs": [],
   "source": []
  },
  {
   "cell_type": "code",
   "execution_count": null,
   "metadata": {},
   "outputs": [],
   "source": []
  }
 ],
 "metadata": {
  "kernelspec": {
   "display_name": "venv",
   "language": "python",
   "name": "python3"
  },
  "language_info": {
   "codemirror_mode": {
    "name": "ipython",
    "version": 3
   },
   "file_extension": ".py",
   "mimetype": "text/x-python",
   "name": "python",
   "nbconvert_exporter": "python",
   "pygments_lexer": "ipython3",
   "version": "3.11.3"
  },
  "orig_nbformat": 4
 },
 "nbformat": 4,
 "nbformat_minor": 2
}
